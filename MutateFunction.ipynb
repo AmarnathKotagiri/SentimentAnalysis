{
 "cells": [
  {
   "cell_type": "code",
   "execution_count": null,
   "id": "a353b07c",
   "metadata": {},
   "outputs": [],
   "source": [
    "candidate_words=set()\n",
    "for w in W:\n",
    "    candidate_words.append(extract_terms)\n",
    "candidate_genes=extract_genes(G,candidate_words)\n",
    "if get_random_integer(G,0,5)>0:\n",
    "    number_of_genes=2\n",
    "else:\n",
    "    number_of_genes=1 \n",
    "if get_random_integer(G,0,5)<1:\n",
    "    if get_random_integer(G,0,3)<1:\n",
    "        gene_indices=get_random_integer(G,random_integer(1,number_of_genes+1))\n",
    "    else:\n",
    "        gene_indices=get_random_integer(G,number_of_genes)\n",
    "for gene_index in gene_indices:\n",
    "    G[gene_index]=get_sample(GS)"
   ]
  }
 ],
 "metadata": {
  "kernelspec": {
   "display_name": "Python 3 (ipykernel)",
   "language": "python",
   "name": "python3"
  },
  "language_info": {
   "codemirror_mode": {
    "name": "ipython",
    "version": 3
   },
   "file_extension": ".py",
   "mimetype": "text/x-python",
   "name": "python",
   "nbconvert_exporter": "python",
   "pygments_lexer": "ipython3",
   "version": "3.9.7"
  }
 },
 "nbformat": 4,
 "nbformat_minor": 5
}
