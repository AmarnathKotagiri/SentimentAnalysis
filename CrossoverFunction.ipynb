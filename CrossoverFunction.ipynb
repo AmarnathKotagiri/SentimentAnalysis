{
 "cells": [
  {
   "cell_type": "code",
   "execution_count": null,
   "id": "aed380c4",
   "metadata": {},
   "outputs": [],
   "source": [
    "def crossoverfunction:\n",
    "    is_identical=True\n",
    "    for index in PG:\n",
    "        if PG[index]!=DG[index]:\n",
    "            candidate_genes.append(index)\n",
    "            is_identical=False\n",
    "            break\n",
    "    if is_identical:\n",
    "        return None \n",
    "    for i in range(1,max_attempts+1):\n",
    "        child_genes=PG.copy()\n",
    "        target_gene_indices=get_random_indices(candidate_genes,get_random_integer(1,max(len(candidate_genes)/100)))\n",
    "        for target_gene_index in target_gene_indices:\n",
    "            child_genes[target_gene_index]=DG[target_gene_index]\n",
    "        if PF<calculate_fitness(child_genes) or i==max_attempts:\n",
    "            return child_genes"
   ]
  }
 ],
 "metadata": {
  "kernelspec": {
   "display_name": "Python 3 (ipykernel)",
   "language": "python",
   "name": "python3"
  },
  "language_info": {
   "codemirror_mode": {
    "name": "ipython",
    "version": 3
   },
   "file_extension": ".py",
   "mimetype": "text/x-python",
   "name": "python",
   "nbconvert_exporter": "python",
   "pygments_lexer": "ipython3",
   "version": "3.9.7"
  }
 },
 "nbformat": 4,
 "nbformat_minor": 5
}
